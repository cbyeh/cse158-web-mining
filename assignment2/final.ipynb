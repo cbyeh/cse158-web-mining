{
 "cells": [
  {
   "cell_type": "code",
   "execution_count": 1,
   "metadata": {},
   "outputs": [],
   "source": [
    "import gzip\n",
    "import ast\n",
    "import json\n",
    "from sklearn import linear_model\n",
    "import random\n",
    "import numpy as np"
   ]
  },
  {
   "cell_type": "code",
   "execution_count": 2,
   "metadata": {},
   "outputs": [],
   "source": [
    "# Parse each json object\n",
    "def read_JSON(path):\n",
    "    for l in gzip.open(path, 'r'):\n",
    "        yield json.loads(l)"
   ]
  },
  {
   "cell_type": "code",
   "execution_count": 3,
   "metadata": {},
   "outputs": [
    {
     "data": {
      "text/plain": [
       "{'fit': 'fit',\n",
       " 'user_id': '273551',\n",
       " 'bust size': '34b',\n",
       " 'item_id': '153475',\n",
       " 'weight': '132lbs',\n",
       " 'rating': '10',\n",
       " 'rented for': 'other',\n",
       " 'review_text': 'I rented this dress for a photo shoot. The theme was \"Hollywood Glam and Big Beautiful Hats\". The dress was very comfortable and easy to move around in. It is definitely on my list to rent again for another formal event. ',\n",
       " 'body type': 'straight & narrow',\n",
       " 'review_summary': 'I felt so glamourous!!!',\n",
       " 'category': 'gown',\n",
       " 'height': '5\\' 6\"',\n",
       " 'size': 12,\n",
       " 'age': '36',\n",
       " 'review_date': 'June 18, 2013'}"
      ]
     },
     "execution_count": 3,
     "metadata": {},
     "output_type": "execute_result"
    }
   ],
   "source": [
    "# Load data\n",
    "data = []\n",
    "for d in read_JSON('renttherunway_final_data.json.gz'):\n",
    "    data.append(d)\n",
    "# Filter data without a rating\n",
    "for d in data:\n",
    "    if not d['rating']:\n",
    "        data.remove(d)\n",
    "data[1]"
   ]
  },
  {
   "cell_type": "markdown",
   "metadata": {},
   "source": [
    "## 2."
   ]
  },
  {
   "cell_type": "code",
   "execution_count": 4,
   "metadata": {},
   "outputs": [
    {
     "data": {
      "text/plain": [
       "0.6124481715871185"
      ]
     },
     "execution_count": 4,
     "metadata": {},
     "output_type": "execute_result"
    }
   ],
   "source": [
    "# Do a baseline prediction. If an item fits, predict a rating of 10.\n",
    "# Else predict a random value from [2, 4, 6, 8], as the ratings are on an interval of 2\n",
    "bad_fit_ratings = [2, 4, 6, 8]\n",
    "correct = 0\n",
    "for d in data:\n",
    "    if d['fit'] == 'fit' and d['rating'] == str(10):\n",
    "        correct += 1\n",
    "    else:\n",
    "        rating = random.choice(bad_fit_ratings)\n",
    "        if d['rating'] == str(rating):\n",
    "            correct += 1\n",
    "correct / len(data)"
   ]
  },
  {
   "cell_type": "code",
   "execution_count": 7,
   "metadata": {},
   "outputs": [
    {
     "data": {
      "text/plain": [
       "({'fit', 'large', 'small'}, {'10', '2', '4', '6', '8'})"
      ]
     },
     "execution_count": 7,
     "metadata": {},
     "output_type": "execute_result"
    }
   ],
   "source": [
    "# Find some distinct features for encoding\n",
    "types_rented_for = set()\n",
    "types_ratings = set()\n",
    "types_fits = set()\n",
    "for d in data:\n",
    "    types_ratings.add(d['rating'])\n",
    "    types_fits.add(d['fit'])\n",
    "#     types_rented_for.add(d[\"rented for\"])\n",
    "types_fits, types_ratings"
   ]
  },
  {
   "cell_type": "markdown",
   "metadata": {},
   "source": [
    "### Dataset citation:\n",
    "\n",
    "#### Decomposing fit semantics for product size recommendation in metric spaces\n",
    "\n",
    "Rishabh Misra, Mengting Wan, Julian McAuley\n",
    "\n",
    "*RecSys, 2018*\n",
    "\n",
    "http://cseweb.ucsd.edu/~jmcauley/pdfs/recsys18e.pdf"
   ]
  },
  {
   "cell_type": "code",
   "execution_count": null,
   "metadata": {},
   "outputs": [],
   "source": []
  }
 ],
 "metadata": {
  "kernelspec": {
   "display_name": "Python 3",
   "language": "python",
   "name": "python3"
  },
  "language_info": {
   "codemirror_mode": {
    "name": "ipython",
    "version": 3
   },
   "file_extension": ".py",
   "mimetype": "text/x-python",
   "name": "python",
   "nbconvert_exporter": "python",
   "pygments_lexer": "ipython3",
   "version": "3.8.3"
  }
 },
 "nbformat": 4,
 "nbformat_minor": 4
}
